{
 "cells": [
  {
   "cell_type": "markdown",
   "metadata": {},
   "source": [
    "# Social Media Sentiment Analysis with AWS SageMaker\n",
    "\n",
    "This notebook demonstrates two approaches for performing sentiment analysis on social media posts:\n",
    "\n",
    "1. **RoBERTa on AWS SageMaker:** Deploy a model for scalable inference using AWS SageMaker.\n",
    "2. **DistilBERT for Real-Time, On-Device Analysis:** Use a lightweight model locally for quick inference.\n",
    "\n",
    "Each section contains detailed comments and explanations."
   ]
  },
  {
   "cell_type": "code",
   "execution_count": null,
   "metadata": {},
   "outputs": [],
   "source": [
    "# Import necessary libraries\n",
    "import boto3              # AWS SDK for Python to interact with AWS services\n",
    "import json               # To convert Python objects to JSON format\n",
    "from transformers import RobertaTokenizer, RobertaForSequenceClassification  # For RoBERTa model and tokenizer\n",
    "import torch              # PyTorch for tensor operations\n",
    "\n",
    "# Load the pre-trained RoBERTa tokenizer and model for sequence classification\n",
    "# 'num_labels=2' indicates binary sentiment classification (e.g., Negative and Positive)\n",
    "tokenizer = RobertaTokenizer.from_pretrained(\"roberta-base\")\n",
    "model = RobertaForSequenceClassification.from_pretrained(\"roberta-base\", num_labels=2)\n",
    "\n",
    "# Define example social media posts\n",
    "posts = [\n",
    "    \"I love this product, it works wonders!\",\n",
    "    \"This is the worst experience ever.\"\n",
    "]\n",
    "\n",
    "# Tokenize the input posts\n",
    "# - padding=True: Pads sequences to the same length\n",
    "# - truncation=True: Truncates sequences longer than the model's max length\n",
    "# - return_tensors=\"pt\": Returns the results as PyTorch tensors\n",
    "inputs = tokenizer(posts, padding=True, truncation=True, return_tensors=\"pt\")\n",
    "\n",
    "# Convert the tensor of input IDs to a list and prepare a JSON payload\n",
    "# The payload is formatted as JSON to be sent to the SageMaker endpoint\n",
    "payload = json.dumps({\"input_ids\": inputs['input_ids'].tolist()})\n",
    "\n",
    "# Initialize the SageMaker runtime client\n",
    "sagemaker_runtime = boto3.client(\"runtime.sagemaker\")\n",
    "\n",
    "# Specify the SageMaker endpoint name (update this to your deployed endpoint name)\n",
    "endpoint_name = \"sentiment-analysis-endpoint\"\n",
    "\n",
    "try:\n",
    "    # Invoke the SageMaker endpoint with the JSON payload\n",
    "    response = sagemaker_runtime.invoke_endpoint(\n",
    "        EndpointName=endpoint_name,\n",
    "        ContentType=\"application/json\",\n",
    "        Body=payload\n",
    "    )\n",
    "\n",
    "    # Read and decode the response from the endpoint\n",
    "    result = response['Body'].read().decode('utf-8')\n",
    "    print(\"SageMaker Endpoint Response:\", result)\n",
    "except Exception as e:\n",
    "    # Print the error if the endpoint invocation fails\n",
    "    print(\"Error invoking SageMaker endpoint:\", str(e))"
   ]
  },
  {
   "cell_type": "markdown",
   "metadata": {},
   "source": [
    "### DistilBERT for Real-Time, On-Device Sentiment Analysis\n",
    "\n",
    "This section demonstrates how to perform sentiment analysis locally using DistilBERT. This model is optimized for speed and lower resource consumption, making it suitable for real-time applications."
   ]
  },
  {
   "cell_type": "code",
   "execution_count": null,
   "metadata": {},
   "outputs": [],
   "source": [
    "# Import the DistilBERT tokenizer and model for sequence classification\n",
    "from transformers import DistilBertTokenizer, DistilBertForSequenceClassification\n",
    "\n",
    "# Load the pre-trained DistilBERT tokenizer and model\n",
    "# 'num_labels=2' sets up binary sentiment classification\n",
    "tokenizer = DistilBertTokenizer.from_pretrained(\"distilbert-base-uncased\")\n",
    "model = DistilBertForSequenceClassification.from_pretrained(\"distilbert-base-uncased\", num_labels=2)\n",
    "\n",
    "# Define example social media posts\n",
    "posts = [\n",
    "    \"Amazing product! Will recommend.\",\n",
    "    \"I’m disappointed with the quality.\"\n",
    "]\n",
    "\n",
    "# Tokenize the posts\n",
    "inputs = tokenizer(posts, padding=True, truncation=True, return_tensors=\"pt\")\n",
    "\n",
    "# Run inference without gradient computation for performance\n",
    "with torch.no_grad():\n",
    "    outputs = model(**inputs)\n",
    "    # The model returns logits (raw scores); argmax selects the predicted class\n",
    "    predictions = torch.argmax(outputs.logits, dim=-1)\n",
    "\n",
    "# Print the sentiment predictions\n",
    "# Convention: 0 indicates Negative sentiment, 1 indicates Positive sentiment\n",
    "print(\"DistilBERT Sentiment Predictions:\", predictions.tolist())"
   ]
  },
  {
   "cell_type": "markdown",
   "metadata": {},
   "source": [
    "### Conclusion\n",
    "\n",
    "This notebook has demonstrated two distinct methods for social media sentiment analysis:\n",
    "\n",
    "1. **RoBERTa on AWS SageMaker:** Suitable for scalable and customizable sentiment analysis in production environments.\n",
    "2. **DistilBERT for On-Device Analysis:** Ideal for real-time inference with lower resource usage.\n",
    "\n",
    "You can extend these examples to integrate sentiment analysis into your applications for brands, products, or services."
   ]
  }
 ],
 "metadata": {
  "kernelspec": {
   "display_name": "Python 3 (ipykernel)",
   "language": "python",
   "name": "python3"
  },
  "language_info": {
   "codemirror_mode": {
    "name": "ipython",
    "version": 3
   },
   "file_extension": ".py",
   "mimetype": "text/x-python",
   "name": "python",
   "nbconvert_exporter": "python",
   "pygments_lexer": "ipython3",
   "version": "3.12.7"
  }
 },
 "nbformat": 4,
 "nbformat_minor": 4
}
