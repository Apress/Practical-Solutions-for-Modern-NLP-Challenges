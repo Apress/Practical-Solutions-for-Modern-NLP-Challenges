{
 "cells": [
  {
   "attachments": {},
   "cell_type": "markdown",
   "id": "9aa74cc1",
   "metadata": {},
   "source": [
    "# 📧 Automated Email Summarization Pipeline\n",
    "This notebook demonstrates a full pipeline to summarize emails from MBOX format using Hugging Face transformers. It processes raw emails, cleans them, summarizes the body text, and exports the results into a structured JSON file."
   ]
  },
  {
   "cell_type": "code",
   "execution_count": null,
   "id": "ee84083c",
   "metadata": {},
   "outputs": [],
   "source": [
    "!pip install transformers torch mailbox email six --quiet"
   ]
  },
  {
   "cell_type": "code",
   "execution_count": null,
   "id": "f91e28aa",
   "metadata": {},
   "outputs": [],
   "source": [
    "import os\n",
    "import re\n",
    "import json\n",
    "import glob\n",
    "import mailbox\n",
    "from email.message import EmailMessage\n",
    "from typing import List, Dict, Any\n",
    "from datetime import datetime\n",
    "from transformers import pipeline"
   ]
  },
  {
   "cell_type": "code",
   "execution_count": null,
   "id": "9db7de05",
   "metadata": {},
   "outputs": [],
   "source": [
    "print(\"[INFO] Loading summarization model...\")\n",
    "summarizer = pipeline(\"summarization\", model=\"facebook/bart-large-cnn\")"
   ]
  },
  {
   "cell_type": "code",
   "execution_count": null,
   "id": "58c5aebe",
   "metadata": {},
   "outputs": [],
   "source": [
    "def clean_email_text(text: str) -> str:\n",
    "    \"\"\"Clean up email body text.\"\"\"\n",
    "    text = re.sub(r'\\n+', '\\n', text)\n",
    "    text = re.sub(r'>.*\\n', '', text)\n",
    "    text = re.sub(r'\\s+', ' ', text)\n",
    "    return text.strip()"
   ]
  },
  {
   "cell_type": "code",
   "execution_count": null,
   "id": "bc74000b",
   "metadata": {},
   "outputs": [],
   "source": [
    "def summarize_text(text: str, min_length: int = 40, max_length: int = 150) -> str:\n",
    "    \"\"\"Generate a summary for the input text.\"\"\"\n",
    "    result = summarizer(text, max_length=max_length, min_length=min_length, do_sample=False)\n",
    "    return result[0]['summary_text']"
   ]
  },
  {
   "cell_type": "code",
   "execution_count": null,
   "id": "8d966aa7",
   "metadata": {},
   "outputs": [],
   "source": [
    "def parse_mbox(filepath: str) -> List[Dict[str, str]]:\n",
    "    \"\"\"Extract subject and body from emails.\"\"\"\n",
    "    mbox = mailbox.mbox(filepath)\n",
    "    emails = []\n",
    "    for msg in mbox:\n",
    "        subject = msg['subject'] or 'No Subject'\n",
    "        payload = msg.get_payload(decode=True)\n",
    "        if payload:\n",
    "            try:\n",
    "                text = payload.decode('utf-8', errors='ignore')\n",
    "                cleaned = clean_email_text(text)\n",
    "                emails.append({\"subject\": subject, \"body\": cleaned})\n",
    "            except Exception as e:\n",
    "                print(f\"[ERROR] Skipping email: {e}\")\n",
    "    return emails"
   ]
  },
  {
   "cell_type": "code",
   "execution_count": null,
   "id": "0be3925c",
   "metadata": {},
   "outputs": [],
   "source": [
    "def summarize_emails(emails: List[Dict[str, str]]) -> List[Dict[str, str]]:\n",
    "    \"\"\"Summarize list of emails.\"\"\"\n",
    "    results = []\n",
    "    for email in emails:\n",
    "        body = email['body']\n",
    "        subject = email['subject']\n",
    "        print(f\"\\n📨 {subject}\")\n",
    "        if len(body.split()) < 50:\n",
    "            summary = body  # skip for short emails\n",
    "        else:\n",
    "            summary = summarize_text(body)\n",
    "        results.append({\"subject\": subject, \"summary\": summary})\n",
    "    return results"
   ]
  },
  {
   "cell_type": "code",
   "execution_count": null,
   "id": "30a70bc7",
   "metadata": {},
   "outputs": [],
   "source": [
    "def save_summaries(summaries: List[Dict[str, str]], filename: str = None):\n",
    "    \"\"\"Save summaries to disk.\"\"\"\n",
    "    if not filename:\n",
    "        filename = f\"email_summaries_{datetime.now().strftime('%Y%m%d_%H%M%S')}.json\"\n",
    "    with open(filename, 'w', encoding='utf-8') as f:\n",
    "        json.dump(summaries, f, indent=4)\n",
    "    print(f\"[INFO] Saved to {filename}\")"
   ]
  },
  {
   "cell_type": "code",
   "execution_count": null,
   "id": "78bc9a39",
   "metadata": {},
   "outputs": [],
   "source": [
    "def create_sample_mbox(path: str):\n",
    "    mbox = mailbox.mbox(path)\n",
    "    for i in range(5):\n",
    "        msg = EmailMessage()\n",
    "        msg['Subject'] = f\"Update {i+1}: Project Alpha\"\n",
    "        msg.set_content(\n",
    "            f\"\"\"\n",
    "Team,\n",
    "\n",
    "We have completed milestone {i+1} of Project Alpha. Frontend has pushed new UI changes. Backend team integrated the service endpoints. Next step is QA and documentation.\n",
    "\n",
    "Regards,\n",
    "Product Owner\n",
    "\"\"\")\n",
    "        mbox.add(msg)\n",
    "    mbox.flush()\n",
    "    print(f\"[INFO] Sample MBOX created at {path}\")"
   ]
  },
  {
   "cell_type": "code",
   "execution_count": null,
   "id": "0cb34578",
   "metadata": {},
   "outputs": [],
   "source": [
    "# Orchestrate the full pipeline\n",
    "mbox_path = \"sample_emails.mbox\"\n",
    "if not os.path.exists(mbox_path):\n",
    "    create_sample_mbox(mbox_path)\n",
    "\n",
    "emails = parse_mbox(mbox_path)\n",
    "summaries = summarize_emails(emails)\n",
    "save_summaries(summaries)"
   ]
  }
 ],
 "metadata": {
  "language_info": {
   "name": "python"
  }
 },
 "nbformat": 4,
 "nbformat_minor": 5
}
