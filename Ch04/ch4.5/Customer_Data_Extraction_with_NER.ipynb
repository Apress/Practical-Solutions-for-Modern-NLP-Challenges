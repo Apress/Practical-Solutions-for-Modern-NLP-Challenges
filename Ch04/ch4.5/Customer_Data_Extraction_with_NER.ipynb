{
 "cells": [
  {
   "cell_type": "markdown",
   "id": "6eb1c4cb",
   "metadata": {},
   "source": [
    "\n",
    "# Customer Data Extraction from PDF/JSON Documents\n",
    "\n",
    "## Introduction\n",
    "This notebook demonstrates the extraction of structured customer data (such as names, addresses, invoice numbers, dates, and amounts) from semi-structured documents like PDFs and JSON files. \n",
    "We will use regular expressions, NLP models, logging, error handling, and visualization tools to enhance the extraction process.\n"
   ]
  },
  {
   "cell_type": "markdown",
   "id": "dd91bc76",
   "metadata": {},
   "source": [
    "\n",
    "## Setup\n",
    "Install required packages:\n",
    "\n",
    "```bash\n",
    "!pip install pdfplumber matplotlib\n",
    "```\n"
   ]
  },
  {
   "cell_type": "code",
   "execution_count": null,
   "id": "faedf31d",
   "metadata": {},
   "outputs": [],
   "source": [
    "\n",
    "import pdfplumber\n",
    "import re\n",
    "import json\n",
    "import logging\n",
    "import matplotlib.pyplot as plt\n",
    "from typing import List, Dict\n",
    "from datetime import datetime\n",
    "\n",
    "# Configure logging\n",
    "logging.basicConfig(level=logging.INFO)\n",
    "logger = logging.getLogger(__name__)\n"
   ]
  },
  {
   "cell_type": "code",
   "execution_count": null,
   "id": "bc3f21c6",
   "metadata": {},
   "outputs": [],
   "source": [
    "\n",
    "def extract_text_from_pdf(pdf_path: str) -> str:\n",
    "    text = \"\"\n",
    "    try:\n",
    "        with pdfplumber.open(pdf_path) as pdf:\n",
    "            for page in pdf.pages:\n",
    "                text += page.extract_text() + \"\\n\"\n",
    "        logger.info(f\"Successfully extracted text from {pdf_path}.\")\n",
    "    except Exception as e:\n",
    "        logger.error(f\"Error reading PDF {pdf_path}: {e}\")\n",
    "    return text\n"
   ]
  },
  {
   "cell_type": "code",
   "execution_count": null,
   "id": "2511c8c6",
   "metadata": {},
   "outputs": [],
   "source": [
    "\n",
    "def extract_from_multiple_pdfs(file_list: List[str]) -> Dict:\n",
    "    extracted_data = {}\n",
    "    for pdf_file in file_list:\n",
    "        text = extract_text_from_pdf(pdf_file)\n",
    "        if text:\n",
    "            extracted_data[pdf_file] = text\n",
    "    return extracted_data\n"
   ]
  },
  {
   "cell_type": "code",
   "execution_count": null,
   "id": "62a8c380",
   "metadata": {},
   "outputs": [],
   "source": [
    "\n",
    "def extract_fields_from_text(text: str) -> Dict:\n",
    "    fields = {}\n",
    "    try:\n",
    "        invoice_number = re.search(r'Invoice\\s*(Number|#)\\s*[:\\-]?\\s*([\\w-]+)', text, re.IGNORECASE)\n",
    "        if invoice_number:\n",
    "            fields[\"invoice_number\"] = invoice_number.group(2)\n",
    "\n",
    "        date = re.search(r'Date\\s*[:\\-]?\\s*([\\w,\\s\\-]+)', text, re.IGNORECASE)\n",
    "        if date:\n",
    "            fields[\"invoice_date\"] = date.group(1).strip()\n",
    "\n",
    "        total_amount = re.search(r'Total\\s*(Due)?\\s*[:\\-]?\\s*\\$?([\\d,]+\\.\\d+)', text, re.IGNORECASE)\n",
    "        if total_amount:\n",
    "            fields[\"total_amount\"] = \"$\" + total_amount.group(2)\n",
    "\n",
    "        idx = text.lower().find(\"bill to\")\n",
    "        if idx != -1:\n",
    "            sub_text = text[idx:]\n",
    "            lines = [ln.strip() for ln in sub_text.splitlines() if ln.strip()]\n",
    "            if len(lines) > 1:\n",
    "                fields[\"customer_name\"] = lines[1]\n",
    "                fields[\"customer_address\"] = \" \".join(lines[2:])\n",
    "    except Exception as e:\n",
    "        logger.error(f\"Error extracting fields: {e}\")\n",
    "    return fields\n"
   ]
  },
  {
   "cell_type": "code",
   "execution_count": null,
   "id": "43709a24",
   "metadata": {},
   "outputs": [],
   "source": [
    "\n",
    "def extract_data_from_texts(text_data: Dict) -> Dict:\n",
    "    extracted_info = {}\n",
    "    for file_name, text in text_data.items():\n",
    "        extracted_info[file_name] = extract_fields_from_text(text)\n",
    "    return extracted_info\n"
   ]
  },
  {
   "cell_type": "code",
   "execution_count": null,
   "id": "5d217940",
   "metadata": {},
   "outputs": [],
   "source": [
    "\n",
    "def save_to_json(data: Dict, filename: str):\n",
    "    try:\n",
    "        with open(filename, \"w\") as f:\n",
    "            json.dump(data, f, indent=2)\n",
    "        logger.info(f\"Data saved to {filename}\")\n",
    "    except Exception as e:\n",
    "        logger.error(f\"Error saving data to file: {e}\")\n"
   ]
  },
  {
   "cell_type": "code",
   "execution_count": null,
   "id": "4eeabcf6",
   "metadata": {},
   "outputs": [],
   "source": [
    "\n",
    "def visualize_data(data: Dict):\n",
    "    invoice_numbers = []\n",
    "    amounts = []\n",
    "    for file, details in data.items():\n",
    "        invoice_numbers.append(details.get(\"invoice_number\", \"Unknown\"))\n",
    "        amounts.append(float(details.get(\"total_amount\", \"0\").replace(\"$\", \"\")) if \"total_amount\" in details else 0)\n",
    "\n",
    "    plt.figure(figsize=(12, 6))\n",
    "    plt.bar(invoice_numbers, amounts, color='skyblue')\n",
    "    plt.xlabel('Invoice Numbers')\n",
    "    plt.ylabel('Amount in Dollars ($)')\n",
    "    plt.title('Invoice Amounts Extracted from PDFs')\n",
    "    plt.show()\n"
   ]
  },
  {
   "cell_type": "code",
   "execution_count": null,
   "id": "59c58443",
   "metadata": {},
   "outputs": [],
   "source": [
    "\n",
    "pdf_files = [\"invoice1.pdf\", \"invoice2.pdf\", \"invoice3.pdf\"]\n",
    "extracted_texts = extract_from_multiple_pdfs(pdf_files)\n",
    "extracted_data = extract_data_from_texts(extracted_texts)\n",
    "save_to_json(extracted_data, \"extracted_invoices.json\")\n",
    "visualize_data(extracted_data)\n"
   ]
  },
  {
   "cell_type": "code",
   "execution_count": null,
   "id": "67860593",
   "metadata": {},
   "outputs": [],
   "source": [
    "\n",
    "def parse_json_file(file_path: str) -> Dict:\n",
    "    try:\n",
    "        with open(file_path, \"r\") as file:\n",
    "            data = json.load(file)\n",
    "        logger.info(f\"JSON file {file_path} loaded successfully.\")\n",
    "        return data\n",
    "    except Exception as e:\n",
    "        logger.error(f\"Error reading JSON file {file_path}: {e}\")\n",
    "        return {}\n"
   ]
  },
  {
   "cell_type": "code",
   "execution_count": null,
   "id": "7775c901",
   "metadata": {},
   "outputs": [],
   "source": [
    "\n",
    "json_data = parse_json_file(\"sample_data.json\")\n",
    "print(json.dumps(json_data, indent=2))\n"
   ]
  },
  {
   "cell_type": "code",
   "execution_count": null,
   "id": "32565c3d",
   "metadata": {},
   "outputs": [],
   "source": [
    "\n",
    "def visualize_json_data(data: Dict):\n",
    "    customer_names = [entry.get(\"customer_name\", \"Unknown\") for entry in data.values()]\n",
    "    amounts = [float(entry.get(\"total_amount\", \"0\").replace(\"$\", \"\")) for entry in data.values()]\n",
    "\n",
    "    plt.figure(figsize=(10, 5))\n",
    "    plt.bar(customer_names, amounts, color='orange')\n",
    "    plt.xlabel('Customer Names')\n",
    "    plt.ylabel('Amount ($)')\n",
    "    plt.title('Invoice Amounts by Customer')\n",
    "    plt.show()\n"
   ]
  },
  {
   "cell_type": "code",
   "execution_count": null,
   "id": "a0428010",
   "metadata": {},
   "outputs": [],
   "source": [
    "\n",
    "print(json.dumps(extracted_data, indent=2))\n"
   ]
  },
  {
   "cell_type": "markdown",
   "id": "06312f11",
   "metadata": {},
   "source": [
    "## Named Entity Recognition (NER)\n",
    "\n",
    "Using spaCy for Named Entity Recognition to identify entities such as names, locations, dates, and organizations from the parsed text."
   ]
  },
  {
   "cell_type": "code",
   "execution_count": null,
   "id": "af86493f",
   "metadata": {},
   "outputs": [],
   "source": [
    "!pip install spacy\n",
    "!python -m spacy download en_core_web_sm"
   ]
  },
  {
   "cell_type": "code",
   "execution_count": null,
   "id": "2b66b291",
   "metadata": {},
   "outputs": [],
   "source": [
    "\n",
    "import spacy\n",
    "\n",
    "# Load spaCy model\n",
    "nlp = spacy.load(\"en_core_web_sm\")\n",
    "\n",
    "def perform_ner(text: str):\n",
    "    \"\"\"Perform Named Entity Recognition on the given text.\"\"\"\n",
    "    doc = nlp(text)\n",
    "    entities = [(ent.text, ent.label_) for ent in doc.ents]\n",
    "    return entities\n",
    "        "
   ]
  },
  {
   "cell_type": "markdown",
   "id": "74d1f17c",
   "metadata": {},
   "source": [
    "### Extract Entities from Parsed PDF Text"
   ]
  },
  {
   "cell_type": "code",
   "execution_count": null,
   "id": "d9427548",
   "metadata": {},
   "outputs": [],
   "source": [
    "\n",
    "# Example usage with parsed data from previous cells\n",
    "pdf_files = [\"example1.pdf\", \"example2.pdf\"]  # Replace with your actual PDF file paths\n",
    "parsed_data = extract_from_multiple_pdfs(pdf_files)\n",
    "\n",
    "# Perform NER on the extracted text from PDFs\n",
    "ner_results = {}\n",
    "for file, text in parsed_data.items():\n",
    "    ner_results[file] = perform_ner(text)\n",
    "\n",
    "# Display the extracted entities\n",
    "for file, entities in ner_results.items():\n",
    "    print(f\"Entities from {file}:\\n\", entities)\n",
    "        "
   ]
  },
  {
   "cell_type": "markdown",
   "id": "66535c37",
   "metadata": {},
   "source": [
    "### Visualize Named Entities"
   ]
  },
  {
   "cell_type": "code",
   "execution_count": null,
   "id": "1e4ddff2",
   "metadata": {},
   "outputs": [],
   "source": [
    "\n",
    "from collections import Counter\n",
    "\n",
    "def visualize_entities(entities):\n",
    "    labels = [label for _, label in entities]\n",
    "    label_counts = Counter(labels)\n",
    "    \n",
    "    plt.figure(figsize=(10, 6))\n",
    "    plt.bar(label_counts.keys(), label_counts.values())\n",
    "    plt.xlabel('Entity Type')\n",
    "    plt.ylabel('Count')\n",
    "    plt.title('Distribution of Named Entity Types')\n",
    "    plt.xticks(rotation=45)\n",
    "    plt.show()\n",
    "\n",
    "# Example visualization for one PDF's entities\n",
    "if ner_results:\n",
    "    visualize_entities(next(iter(ner_results.values())))\n",
    "        "
   ]
  },
  {
   "cell_type": "markdown",
   "id": "a2b3f741",
   "metadata": {},
   "source": [
    "### Save Entities to JSON"
   ]
  },
  {
   "cell_type": "code",
   "execution_count": null,
   "id": "75da7296",
   "metadata": {},
   "outputs": [],
   "source": [
    "\n",
    "import json\n",
    "\n",
    "def save_entities_to_json(ner_results, output_file='entities.json'):\n",
    "    with open(output_file, 'w') as json_file:\n",
    "        json.dump(ner_results, json_file, indent=4)\n",
    "    logger.info(f\"Entities saved to {output_file}\")\n",
    "\n",
    "# Save the NER results to JSON file\n",
    "save_entities_to_json(ner_results)\n",
    "        "
   ]
  }
 ],
 "metadata": {},
 "nbformat": 4,
 "nbformat_minor": 5
}
