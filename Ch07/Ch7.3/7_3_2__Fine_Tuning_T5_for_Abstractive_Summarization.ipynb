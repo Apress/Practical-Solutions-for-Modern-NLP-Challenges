{
  "nbformat": 4,
  "nbformat_minor": 0,
  "metadata": {
    "colab": {
      "provenance": []
    },
    "kernelspec": {
      "name": "python3",
      "display_name": "Python 3"
    },
    "language_info": {
      "name": "python"
    }
  },
  "cells": [
    {
      "cell_type": "code",
      "execution_count": null,
      "metadata": {
        "id": "cK-Kqw3UOQ_-"
      },
      "outputs": [],
      "source": [
        "#7.3.2- Fine-Tuning T5 for Abstractive Summarization"
      ]
    },
    {
      "cell_type": "code",
      "source": [
        "from transformers import T5ForConditionalGeneration, T5Tokenizer\n",
        "from datasets import load_dataset\n",
        "\n",
        "# Load dataset and model\n",
        "dataset = load_dataset(\"xsum\")\n",
        "model_name = \"t5-small\"\n",
        "tokenizer = T5Tokenizer.from_pretrained(model_name)\n",
        "model = T5ForConditionalGeneration.from_pretrained(model_name)\n",
        "\n",
        "# Preprocessing\n",
        "def preprocess_function(example):\n",
        "    input_text = f\"summarize: {example['document']}\"\n",
        "    target_text = example[\"summary\"]\n",
        "    model_inputs = tokenizer(input_text, max_length=512, truncation=True, padding=\"max_length\")\n",
        "    labels = tokenizer(target_text, max_length=150, truncation=True, padding=\"max_length\").input_ids\n",
        "    model_inputs[\"labels\"] = labels\n",
        "    return model_inputs\n",
        "\n",
        "tokenized_dataset = dataset.map(preprocess_function, batched=True)\n",
        "\n",
        "# Training setup\n",
        "from transformers import TrainingArguments, Trainer\n",
        "training_args = TrainingArguments(output_dir=\"./t5-summarization\", num_train_epochs=3, per_device_train_batch_size=8)\n",
        "trainer = Trainer(model=model, args=training_args, train_dataset=tokenized_dataset[\"train\"], eval_dataset=tokenized_dataset[\"validation\"])\n",
        "trainer.train()\n",
        "\n",
        "\n"
      ],
      "metadata": {
        "id": "AYqwOL65ORW_"
      },
      "execution_count": null,
      "outputs": []
    }
  ]
}