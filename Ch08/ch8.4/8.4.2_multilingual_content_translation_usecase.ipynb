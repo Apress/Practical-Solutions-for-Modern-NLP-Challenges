{
 "cells": [
  {
   "cell_type": "code",
   "execution_count": null,
   "id": "4c6f52da",
   "metadata": {},
   "outputs": [],
   "source": [
    "# Multilingual_Content_Translation use case\n"
   ]
  },
  {
   "cell_type": "code",
   "execution_count": null,
   "id": "c5ba6334",
   "metadata": {},
   "outputs": [],
   "source": [
    "# multilingual_translation.py\n",
    "\n",
    "# Install dependencies (run this separately before executing the script)\n",
    "# !pip install transformers sentencepiece --quiet"
   ]
  },
  {
   "cell_type": "code",
   "execution_count": null,
   "id": "e894f2ff",
   "metadata": {},
   "outputs": [],
   "source": [
    "# save as multilingual_translation.py\n",
    "\n",
    "import os\n",
    "import json\n",
    "from transformers import MarianMTModel, MarianTokenizer, pipeline\n",
    "\n",
    "# -------------------------------\n",
    "# 1. CONFIGURATION\n",
    "# -------------------------------\n",
    "SOURCE_LANG = \"en\"\n",
    "TARGET_LANGS = [\"fr\", \"de\", \"es\", \"it\", \"pt\"]  # Add more as needed\n",
    "\n",
    "INPUT_DIR = \"business_docs/\"\n",
    "OUTPUT_DIR = \"translated_docs/\"\n",
    "os.makedirs(OUTPUT_DIR, exist_ok=True)\n",
    "\n",
    "# -------------------------------\n",
    "# 2. LOAD TRANSLATION MODELS\n",
    "# -------------------------------\n",
    "translation_pipelines = {}\n",
    "\n",
    "for tgt in TARGET_LANGS:\n",
    "    model_name = f\"Helsinki-NLP/opus-mt-{SOURCE_LANG}-{tgt}\"\n",
    "    try:\n",
    "        print(f\"Loading model for: {SOURCE_LANG} → {tgt}\")\n",
    "        tokenizer = MarianTokenizer.from_pretrained(model_name)\n",
    "        model = MarianMTModel.from_pretrained(model_name)\n",
    "        translation_pipelines[tgt] = pipeline(\"translation\", model=model, tokenizer=tokenizer)\n",
    "    except Exception as e:\n",
    "        print(f\"❌ Could not load model for {SOURCE_LANG}-{tgt}: {e}\")\n",
    "\n",
    "# -------------------------------\n",
    "# 3. PROCESS DOCUMENTS\n",
    "# -------------------------------\n",
    "for file_name in os.listdir(INPUT_DIR):\n",
    "    if file_name.endswith(\".txt\"):\n",
    "        input_path = os.path.join(INPUT_DIR, file_name)\n",
    "        with open(input_path, \"r\", encoding=\"utf-8\") as f:\n",
    "            text = f.read().strip()\n",
    "\n",
    "        translations = {SOURCE_LANG: text}\n",
    "\n",
    "        for lang_code, translator in translation_pipelines.items():\n",
    "            try:\n",
    "                print(f\"Translating {file_name} to {lang_code}...\")\n",
    "                result = translator(text, max_length=512)\n",
    "                translations[lang_code] = result[0][\"translation_text\"]\n",
    "            except Exception as e:\n",
    "                print(f\"⚠️ Translation error for {file_name} [{lang_code}]: {e}\")\n",
    "                translations[lang_code] = \"[Translation Error]\"\n",
    "\n",
    "        # Save to JSON\n",
    "        output_file = os.path.join(OUTPUT_DIR, file_name.replace(\".txt\", \"_translations.json\"))\n",
    "        with open(output_file, \"w\", encoding=\"utf-8\") as out_f:\n",
    "            json.dump(translations, out_f, ensure_ascii=False, indent=2)\n",
    "\n",
    "        print(f\"✅ Saved: {output_file}\")"
   ]
  },
  {
   "cell_type": "code",
   "execution_count": null,
   "id": "c2cffe96",
   "metadata": {},
   "outputs": [],
   "source": [
    "#A sample folder structure with corpus docs and project folder view\n",
    "\n",
    "project_root/\n",
    "├── multilingual_translation.py\n",
    "├── business_docs/\n",
    "│   ├── example1.txt\n",
    "│   └── example2.txt\n",
    "├── translated_docs/\n",
    "│   └── example1_translations.json\n",
    "\n"
   ]
  },
  {
   "cell_type": "code",
   "execution_count": null,
   "id": "3fd731d9",
   "metadata": {},
   "outputs": [],
   "source": [
    "# Sample Input: business_docs/example1.txt\n",
    "\n",
    "Welcome to our product support portal. We are here to help you with any issues you may encounter.\n",
    "\n",
    "\n"
   ]
  },
  {
   "cell_type": "code",
   "execution_count": null,
   "id": "e591ecb0",
   "metadata": {},
   "outputs": [],
   "source": [
    "#Sample Output: translated_docs/example1_translations.json\n",
    "\n",
    "{\n",
    "  \"en\": \"Welcome to our product support portal. We are here to help you with any issues you may encounter.\",\n",
    "  \"fr\": \"Bienvenue sur notre portail d'assistance produit. Nous sommes là pour vous aider en cas de problème.\",\n",
    "  \"de\": \"Willkommen auf unserem Produkt-Support-Portal. Wir helfen Ihnen bei allen Problemen weiter.\",\n",
    "  \"es\": \"Bienvenido a nuestro portal de soporte de productos. Estamos aquí para ayudarte con cualquier problema.\",\n",
    "  \"it\": \"Benvenuto nel nostro portale di supporto prodotto. Siamo qui per aiutarti con qualsiasi problema.\",\n",
    "  \"pt\": \"Bem-vindo ao nosso portal de suporte ao produto. Estamos aqui para ajudá-lo com qualquer problema.\"\n",
    "}\n",
    "\n"
   ]
  },
  {
   "cell_type": "code",
   "execution_count": null,
   "id": "fa7c93a1",
   "metadata": {},
   "outputs": [],
   "source": [
    "# Optional Enhancements to enrich it\n",
    "•\tAdd Markdown/HTML preservation with BeautifulSoup.\n",
    "•\tConnect output to a CMS (Contentful, WordPress).\n",
    "•\tAdd logging or database storage for large-scale use.\n"
   ]
  }
 ],
 "metadata": {
  "language_info": {
   "name": "python"
  }
 },
 "nbformat": 4,
 "nbformat_minor": 5
}
