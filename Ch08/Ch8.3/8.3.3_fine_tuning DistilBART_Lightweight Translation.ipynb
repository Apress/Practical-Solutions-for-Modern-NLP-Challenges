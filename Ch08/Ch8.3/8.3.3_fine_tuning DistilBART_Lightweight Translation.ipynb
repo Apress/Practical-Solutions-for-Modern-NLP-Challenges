{
 "cells": [
  {
   "cell_type": "code",
   "execution_count": null,
   "id": "fc13d25b",
   "metadata": {},
   "outputs": [],
   "source": [
    "#Fine-Tuning DistilBART for Lightweight Translation or Summarization\n",
    "\n"
   ]
  },
  {
   "cell_type": "code",
   "execution_count": null,
   "id": "4435a231",
   "metadata": {},
   "outputs": [],
   "source": [
    "!pip install transformers datasets sentencepiece sacrebleu --quiet"
   ]
  },
  {
   "cell_type": "code",
   "execution_count": null,
   "id": "0dda5bd4",
   "metadata": {},
   "outputs": [],
   "source": [
    "#Prepare Your Data (en_fr_dataset.json)\n",
    "# save as en_fr_dataset.json\n",
    "\n",
    "[\n",
    "  { \"source\": \"Hello, how are you?\", \"target\": \"Bonjour, comment ça va ?\" },\n",
    "  { \"source\": \"Good morning\", \"target\": \"Bon matin\" }\n",
    "]"
   ]
  },
  {
   "cell_type": "code",
   "execution_count": null,
   "id": "43f67604",
   "metadata": {},
   "outputs": [],
   "source": [
    "#Step 3: Fine-Tuning Script (fine_tune_distilbart.py)\n",
    "# save as fine_tune_distilbart.py\n",
    "\n",
    "from transformers import DistilBartTokenizer, DistilBartForConditionalGeneration\n",
    "from transformers import Seq2SeqTrainer, Seq2SeqTrainingArguments, DataCollatorForSeq2Seq\n",
    "from datasets import load_dataset\n",
    "import numpy as np\n",
    "import evaluate\n",
    "import torch\n",
    "\n",
    "# Config\n",
    "model_checkpoint = \"sshleifer/distilbart-cnn-12-6\"  # Pretrained DistilBART\n",
    "source_column = \"source\"\n",
    "target_column = \"target\"\n",
    "\n",
    "# Load model & tokenizer\n",
    "tokenizer = DistilBartTokenizer.from_pretrained(model_checkpoint)\n",
    "model = DistilBartForConditionalGeneration.from_pretrained(model_checkpoint)\n",
    "\n",
    "# Load dataset\n",
    "dataset = load_dataset(\"json\", data_files=\"en_fr_dataset.json\", split=\"train\")\n",
    "\n",
    "# Tokenization\n",
    "def preprocess(example):\n",
    "    inputs = tokenizer(example[source_column], max_length=128, truncation=True, padding=\"max_length\")\n",
    "    with tokenizer.as_target_tokenizer():\n",
    "        targets = tokenizer(example[target_column], max_length=128, truncation=True, padding=\"max_length\")\n",
    "    inputs[\"labels\"] = targets[\"input_ids\"]\n",
    "    return inputs\n",
    "\n",
    "tokenized_dataset = dataset.map(preprocess, batched=True)\n",
    "\n",
    "# Collator\n",
    "data_collator = DataCollatorForSeq2Seq(tokenizer=tokenizer, model=model)\n",
    "\n",
    "# Metric\n",
    "bleu = evaluate.load(\"sacrebleu\")\n",
    "\n",
    "def compute_metrics(eval_pred):\n",
    "    preds, labels = eval_pred\n",
    "    decoded_preds = tokenizer.batch_decode(preds, skip_special_tokens=True)\n",
    "    labels = np.where(labels != -100, labels, tokenizer.pad_token_id)\n",
    "    decoded_labels = tokenizer.batch_decode(labels, skip_special_tokens=True)\n",
    "    return bleu.compute(predictions=decoded_preds, references=[[label] for label in decoded_labels])\n",
    "\n",
    "# Training arguments\n",
    "training_args = Seq2SeqTrainingArguments(\n",
    "    output_dir=\"./distilbart-finetuned-en-fr\",\n",
    "    per_device_train_batch_size=8,\n",
    "    per_device_eval_batch_size=8,\n",
    "    predict_with_generate=True,\n",
    "    learning_rate=5e-5,\n",
    "    num_train_epochs=3,\n",
    "    evaluation_strategy=\"epoch\",\n",
    "    save_strategy=\"epoch\",\n",
    "    save_total_limit=2,\n",
    "    fp16=torch.cuda.is_available()\n",
    ")\n",
    "\n",
    "# Trainer\n",
    "trainer = Seq2SeqTrainer(\n",
    "    model=model,\n",
    "    tokenizer=tokenizer,\n",
    "    args=training_args,\n",
    "    train_dataset=tokenized_dataset,\n",
    "    eval_dataset=tokenized_dataset,\n",
    "    data_collator=data_collator,\n",
    "    compute_metrics=compute_metrics\n",
    ")\n",
    "\n",
    "# Train!\n",
    "trainer.train()\n",
    "\n",
    "# Save\n",
    "trainer.save_model(\"./distilbart-finetuned-en-fr\")\n",
    "\n",
    "\n"
   ]
  },
  {
   "cell_type": "code",
   "execution_count": null,
   "id": "b4133d2a",
   "metadata": {},
   "outputs": [],
   "source": [
    "# inference example\n",
    "\n",
    "from transformers import pipeline\n",
    "\n",
    "translator = pipeline(\"translation\", model=\"./distilbart-finetuned-en-fr\", tokenizer=\"sshleifer/distilbart-cnn-12-6\")\n",
    "result = translator(\"How can I help you today?\")\n",
    "print(result[0][\"translation_text\"])\n"
   ]
  },
  {
   "cell_type": "code",
   "execution_count": null,
   "id": "a4c10077",
   "metadata": {},
   "outputs": [],
   "source": [
    "# further enhancements to explore\n",
    "\n",
    "1.Use datasets.Dataset.train_test_split() for validation.\n",
    "\n",
    "2. Reduce max_length or batch size for low-RAM machines.\n",
    "\n",
    "3. Replace DistilBART with another distilled encoder-decoder model for your language pair or summarization."
   ]
  }
 ],
 "metadata": {
  "language_info": {
   "name": "python"
  }
 },
 "nbformat": 4,
 "nbformat_minor": 5
}
