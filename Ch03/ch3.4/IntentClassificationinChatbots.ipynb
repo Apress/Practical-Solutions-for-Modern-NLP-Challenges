{
 "cells": [
  {
   "attachments": {},
   "cell_type": "markdown",
   "metadata": {},
   "source": [
    "# Using TinyBERT for Intent Classification in Chatbots"
   ]
  },
  {
   "cell_type": "code",
   "execution_count": null,
   "metadata": {},
   "outputs": [],
   "source": [
    "from transformers import AutoTokenizer, AutoModelForSequenceClassification, pipeline\n",
    "\n",
    "# Load tokenizer and model\n",
    "tokenizer = AutoTokenizer.from_pretrained(\"huawei-noah/TinyBERT_General_4L_312D\")\n",
    "model = AutoModelForSequenceClassification.from_pretrained(\"huawei-noah/TinyBERT_General_4L_312D\", num_labels=10)\n",
    "\n",
    "# Load classification pipeline\n",
    "classifier = pipeline(\"text-classification\", model=model, tokenizer=tokenizer)\n",
    "\n",
    "# Example queries\n",
    "queries = [\n",
    "    \"I want to reset my password.\",\n",
    "    \"Can you help me track my order?\",\n",
    "    \"I need assistance with my bill.\"\n",
    "]\n",
    "\n",
    "# Perform classification\n",
    "results = classifier(queries)\n",
    "for query, result in zip(queries, results):\n",
    "    print(f\"Query: {query}\\nPredicted Intent: {result['label']}\\n\")"
   ]
  }
 ],
 "metadata": {
  "language_info": {
   "name": "python"
  },
  "orig_nbformat": 4
 },
 "nbformat": 4,
 "nbformat_minor": 2
}
