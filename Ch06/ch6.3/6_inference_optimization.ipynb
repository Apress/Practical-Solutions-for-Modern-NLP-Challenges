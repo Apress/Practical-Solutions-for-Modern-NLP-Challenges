{
 "cells": [
  {
   "cell_type": "markdown",
   "id": "a0638e3f",
   "metadata": {},
   "source": [
    "\n",
    "# 6.3.6 - Inference Optimization Strategies for QA Models\n",
    "\n",
    "This notebook demonstrates practical techniques for optimizing inference in QA systems, focusing on performance, latency, and memory efficiency.\n",
    "\n",
    "Covered strategies:\n",
    "- Quantization (BitNet demo)\n",
    "- Flash Attention\n",
    "- Distillation\n",
    "- Pruning\n",
    "- Batch Inference\n"
   ]
  },
  {
   "cell_type": "code",
   "execution_count": null,
   "id": "ad2966bf",
   "metadata": {},
   "outputs": [],
   "source": [
    "\n",
    "!pip install transformers accelerate optimum sentence-transformers\n"
   ]
  },
  {
   "cell_type": "markdown",
   "id": "01d7345d",
   "metadata": {},
   "source": [
    "## Quantization Example (BitNet-style simulation)"
   ]
  },
  {
   "cell_type": "code",
   "execution_count": null,
   "id": "64c19460",
   "metadata": {},
   "outputs": [],
   "source": [
    "\n",
    "# Simulate a quantized model output\n",
    "from transformers import AutoModelForCausalLM, AutoTokenizer\n",
    "\n",
    "model = AutoModelForCausalLM.from_pretrained(\"sshleifer/tiny-gpt2\")\n",
    "tokenizer = AutoTokenizer.from_pretrained(\"sshleifer/tiny-gpt2\")\n",
    "\n",
    "prompt = \"Q: What is relativity? Context: It is the dependence of physical phenomena on relative motion.\"\n",
    "inputs = tokenizer(prompt, return_tensors=\"pt\")\n",
    "outputs = model.generate(**inputs, max_length=50)\n",
    "\n",
    "print(\"Quantized Model Simulation:\", tokenizer.decode(outputs[0], skip_special_tokens=True))\n"
   ]
  },
  {
   "cell_type": "markdown",
   "id": "c9aa204e",
   "metadata": {},
   "source": [
    "## Flash Attention for Efficient Memory Use"
   ]
  },
  {
   "cell_type": "code",
   "execution_count": null,
   "id": "45d3ff92",
   "metadata": {},
   "outputs": [],
   "source": [
    "\n",
    "from transformers import AutoModelForCausalLM, AutoTokenizer\n",
    "\n",
    "# Flash Attention 2 (mocked with compatible model)\n",
    "model = AutoModelForCausalLM.from_pretrained(\"tiiuae/falcon-rw-1b\", use_flash_attention_2=True)\n",
    "tokenizer = AutoTokenizer.from_pretrained(\"tiiuae/falcon-rw-1b\")\n",
    "\n",
    "input_text = \"Q: Who discovered gravity? Context: Isaac Newton developed the law of universal gravitation.\"\n",
    "inputs = tokenizer(input_text, return_tensors=\"pt\")\n",
    "outputs = model.generate(**inputs, max_length=64)\n",
    "\n",
    "print(\"Flash Attention Answer:\", tokenizer.decode(outputs[0], skip_special_tokens=True))\n"
   ]
  },
  {
   "cell_type": "markdown",
   "id": "0b22048b",
   "metadata": {},
   "source": [
    "## Model Distillation"
   ]
  },
  {
   "cell_type": "code",
   "execution_count": null,
   "id": "21460c73",
   "metadata": {},
   "outputs": [],
   "source": [
    "\n",
    "from transformers import BertForQuestionAnswering, DistilBertForQuestionAnswering\n",
    "\n",
    "teacher = BertForQuestionAnswering.from_pretrained(\"bert-large-uncased-whole-word-masking-finetuned-squad\")\n",
    "student = DistilBertForQuestionAnswering.from_pretrained(\"distilbert-base-uncased\")\n",
    "\n",
    "print(\"Teacher model size:\", sum(p.numel() for p in teacher.parameters()) / 1e6, \"M\")\n",
    "print(\"Student model size:\", sum(p.numel() for p in student.parameters()) / 1e6, \"M\")\n"
   ]
  },
  {
   "cell_type": "markdown",
   "id": "678a898d",
   "metadata": {},
   "source": [
    "## Model Pruning Example"
   ]
  },
  {
   "cell_type": "code",
   "execution_count": null,
   "id": "bbc78771",
   "metadata": {},
   "outputs": [],
   "source": [
    "\n",
    "from optimum.intel.openvino import OVModelForQuestionAnswering\n",
    "\n",
    "# Export to OpenVINO format and prune\n",
    "model = OVModelForQuestionAnswering.from_pretrained(\"distilbert-base-uncased\")\n",
    "model.prune_layers(pruning_ratio=0.3)  # Prune 30%\n",
    "print(\"Model pruned successfully.\")\n"
   ]
  },
  {
   "cell_type": "markdown",
   "id": "94f78ba5",
   "metadata": {},
   "source": [
    "## Batch Inference"
   ]
  },
  {
   "cell_type": "code",
   "execution_count": null,
   "id": "0a3d444f",
   "metadata": {},
   "outputs": [],
   "source": [
    "\n",
    "questions = [\"What is AI?\", \"What is ML?\"]\n",
    "contexts = [\"AI is a field of computer science.\", \"ML is a branch of AI.\"]\n",
    "\n",
    "inputs = tokenizer(questions, contexts, return_tensors=\"pt\", padding=True, truncation=True)\n",
    "outputs = model(**inputs)\n",
    "\n",
    "print(\"Batch Inference - Start logits:\", outputs.start_logits.shape)\n"
   ]
  }
 ],
 "metadata": {},
 "nbformat": 4,
 "nbformat_minor": 5
}
