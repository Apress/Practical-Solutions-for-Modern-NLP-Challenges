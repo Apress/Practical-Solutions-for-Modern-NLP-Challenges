{
  "nbformat": 4,
  "nbformat_minor": 0,
  "metadata": {
    "colab": {
      "provenance": []
    },
    "kernelspec": {
      "name": "python3",
      "display_name": "Python 3"
    },
    "language_info": {
      "name": "python"
    }
  },
  "cells": [
    {
      "cell_type": "code",
      "execution_count": null,
      "metadata": {
        "id": "thRVOCf7RGAh"
      },
      "outputs": [],
      "source": [
        "#Fine-Tuning DistilBERT for Extractive Summarization"
      ]
    },
    {
      "cell_type": "code",
      "source": [],
      "metadata": {
        "id": "eKVYajSERGtu"
      },
      "execution_count": null,
      "outputs": []
    },
    {
      "cell_type": "code",
      "source": [
        "from transformers import DistilBertForSequenceClassification, DistilBertTokenizer\n",
        "from datasets import load_dataset\n",
        "\n",
        "# Load model and tokenizer\n",
        "model = DistilBertForSequenceClassification.from_pretrained(\"distilbert-base-uncased\")\n",
        "tokenizer = DistilBertTokenizer.from_pretrained(\"distilbert-base-uncased\")\n",
        "dataset = load_dataset(\"cnn_dailymail\", \"3.0.0\")\n",
        "\n",
        "# Preprocessing\n",
        "def preprocess_function(example):\n",
        "    return tokenizer(example[\"article\"], truncation=True, padding=\"max_length\")\n",
        "\n",
        "tokenized_dataset = dataset.map(preprocess_function, batched=True)\n",
        "\n",
        "# Training\n",
        "from transformers import TrainingArguments, Trainer\n",
        "training_args = TrainingArguments(output_dir=\"./distilbert-summarization\", num_train_epochs=3, per_device_train_batch_size=8)\n",
        "trainer = Trainer(model=model, args=training_args, train_dataset=tokenized_dataset[\"train\"], eval_dataset=tokenized_dataset[\"validation\"])\n",
        "trainer.train()\n"
      ],
      "metadata": {
        "id": "M60mo08qRGxH"
      },
      "execution_count": null,
      "outputs": []
    }
  ]
}